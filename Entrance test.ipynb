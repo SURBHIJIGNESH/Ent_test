{
 "cells": [
  {
   "cell_type": "code",
   "execution_count": 1,
   "id": "65302202",
   "metadata": {},
   "outputs": [
    {
     "name": "stdout",
     "output_type": "stream",
     "text": [
      "Information Gain with respect to 'Taste': 0.6\n"
     ]
    }
   ],
   "source": [
    "import numpy as np\n",
    "import pandas as pd\n",
    "import math\n",
    "\n",
    "\n",
    "data = {\n",
    "    'Review': ['Negative', 'Negative', 'Negative', 'Positive', 'Positive', 'Negative', 'Positive', 'Positive', 'Positive', 'Negative'],\n",
    "    'Smell': ['Woody', 'Fruity', 'Fruity', 'Fruity', 'Woody', 'Woody', 'Woody', 'Fruity', 'Fruity', 'Woody'],\n",
    "    'Taste': ['Sweet', 'Salty', 'Salty', 'Sour', 'Sour', 'Sweet', 'Sour', 'Salty', 'Salty', 'Sweet'],\n",
    "    'Portion': ['Small', 'Large', 'Large', 'Small', 'Small', 'Large', 'Large', 'Small', 'Small', 'Large']\n",
    "}\n",
    "\n",
    "df = pd.DataFrame(data)\n",
    "\n",
    "\n",
    "def entropy(series):\n",
    "    values, counts = np.unique(series, return_counts=True)\n",
    "    probs = counts / len(series)\n",
    "    return -np.sum(probs * np.log2(probs))\n",
    "\n",
    "entropy_full = entropy(df['Review'])\n",
    "\n",
    "unique_tastes = df['Taste'].unique()\n",
    "entropy_taste_split = sum(\n",
    "    (len(df[df['Taste'] == taste]) / len(df)) * entropy(df[df['Taste'] == taste]['Review'])\n",
    "    for taste in unique_tastes\n",
    ")\n",
    "\n",
    "information_gain = entropy_full - entropy_taste_split\n",
    "\n",
    "print(\"Information Gain with respect to 'Taste':\", information_gain)"
   ]
  },
  {
   "cell_type": "code",
   "execution_count": 2,
   "id": "374867e5",
   "metadata": {},
   "outputs": [],
   "source": [
    "links=pd.read_csv(\"C:/Users/srmis/OneDrive/Desktop/movie_data/links.csv\")\n",
    "movies=pd.read_csv(\"C:/Users/srmis/OneDrive/Desktop/movie_data/movies.csv\")\n",
    "ratings=pd.read_csv(\"C:/Users/srmis/OneDrive/Desktop/movie_data/ratings.csv\")\n",
    "tags=pd.read_csv(\"C:/Users/srmis/OneDrive/Desktop/movie_data/tags.csv\")\n"
   ]
  },
  {
   "cell_type": "code",
   "execution_count": 3,
   "id": "9c0dca98",
   "metadata": {},
   "outputs": [
    {
     "data": {
      "text/plain": [
       "(9742, 3)"
      ]
     },
     "execution_count": 3,
     "metadata": {},
     "output_type": "execute_result"
    }
   ],
   "source": [
    "movies.shape"
   ]
  },
  {
   "cell_type": "code",
   "execution_count": 4,
   "id": "6b2077b1",
   "metadata": {},
   "outputs": [
    {
     "data": {
      "text/plain": [
       "(100836, 4)"
      ]
     },
     "execution_count": 4,
     "metadata": {},
     "output_type": "execute_result"
    }
   ],
   "source": [
    "ratings.shape"
   ]
  },
  {
   "cell_type": "code",
   "execution_count": 5,
   "id": "21d0e707",
   "metadata": {},
   "outputs": [
    {
     "data": {
      "text/plain": [
       "610"
      ]
     },
     "execution_count": 5,
     "metadata": {},
     "output_type": "execute_result"
    }
   ],
   "source": [
    "ratings.userId.nunique()"
   ]
  },
  {
   "cell_type": "code",
   "execution_count": 6,
   "id": "306e81b1",
   "metadata": {},
   "outputs": [
    {
     "name": "stdout",
     "output_type": "stream",
     "text": [
      "<class 'pandas.core.frame.DataFrame'>\n",
      "RangeIndex: 9742 entries, 0 to 9741\n",
      "Data columns (total 3 columns):\n",
      " #   Column   Non-Null Count  Dtype \n",
      "---  ------   --------------  ----- \n",
      " 0   movieId  9742 non-null   int64 \n",
      " 1   title    9742 non-null   object\n",
      " 2   genres   9742 non-null   object\n",
      "dtypes: int64(1), object(2)\n",
      "memory usage: 228.5+ KB\n"
     ]
    }
   ],
   "source": [
    "movies.info()"
   ]
  },
  {
   "cell_type": "code",
   "execution_count": 7,
   "id": "f2938e92",
   "metadata": {},
   "outputs": [
    {
     "data": {
      "text/html": [
       "<div>\n",
       "<style scoped>\n",
       "    .dataframe tbody tr th:only-of-type {\n",
       "        vertical-align: middle;\n",
       "    }\n",
       "\n",
       "    .dataframe tbody tr th {\n",
       "        vertical-align: top;\n",
       "    }\n",
       "\n",
       "    .dataframe thead th {\n",
       "        text-align: right;\n",
       "    }\n",
       "</style>\n",
       "<table border=\"1\" class=\"dataframe\">\n",
       "  <thead>\n",
       "    <tr style=\"text-align: right;\">\n",
       "      <th></th>\n",
       "      <th>movieId</th>\n",
       "      <th>title</th>\n",
       "      <th>genres</th>\n",
       "    </tr>\n",
       "  </thead>\n",
       "  <tbody>\n",
       "    <tr>\n",
       "      <th>0</th>\n",
       "      <td>1</td>\n",
       "      <td>Toy Story (1995)</td>\n",
       "      <td>Adventure|Animation|Children|Comedy|Fantasy</td>\n",
       "    </tr>\n",
       "    <tr>\n",
       "      <th>1</th>\n",
       "      <td>2</td>\n",
       "      <td>Jumanji (1995)</td>\n",
       "      <td>Adventure|Children|Fantasy</td>\n",
       "    </tr>\n",
       "    <tr>\n",
       "      <th>2</th>\n",
       "      <td>3</td>\n",
       "      <td>Grumpier Old Men (1995)</td>\n",
       "      <td>Comedy|Romance</td>\n",
       "    </tr>\n",
       "    <tr>\n",
       "      <th>3</th>\n",
       "      <td>4</td>\n",
       "      <td>Waiting to Exhale (1995)</td>\n",
       "      <td>Comedy|Drama|Romance</td>\n",
       "    </tr>\n",
       "    <tr>\n",
       "      <th>4</th>\n",
       "      <td>5</td>\n",
       "      <td>Father of the Bride Part II (1995)</td>\n",
       "      <td>Comedy</td>\n",
       "    </tr>\n",
       "    <tr>\n",
       "      <th>...</th>\n",
       "      <td>...</td>\n",
       "      <td>...</td>\n",
       "      <td>...</td>\n",
       "    </tr>\n",
       "    <tr>\n",
       "      <th>9737</th>\n",
       "      <td>193581</td>\n",
       "      <td>Black Butler: Book of the Atlantic (2017)</td>\n",
       "      <td>Action|Animation|Comedy|Fantasy</td>\n",
       "    </tr>\n",
       "    <tr>\n",
       "      <th>9738</th>\n",
       "      <td>193583</td>\n",
       "      <td>No Game No Life: Zero (2017)</td>\n",
       "      <td>Animation|Comedy|Fantasy</td>\n",
       "    </tr>\n",
       "    <tr>\n",
       "      <th>9739</th>\n",
       "      <td>193585</td>\n",
       "      <td>Flint (2017)</td>\n",
       "      <td>Drama</td>\n",
       "    </tr>\n",
       "    <tr>\n",
       "      <th>9740</th>\n",
       "      <td>193587</td>\n",
       "      <td>Bungo Stray Dogs: Dead Apple (2018)</td>\n",
       "      <td>Action|Animation</td>\n",
       "    </tr>\n",
       "    <tr>\n",
       "      <th>9741</th>\n",
       "      <td>193609</td>\n",
       "      <td>Andrew Dice Clay: Dice Rules (1991)</td>\n",
       "      <td>Comedy</td>\n",
       "    </tr>\n",
       "  </tbody>\n",
       "</table>\n",
       "<p>9742 rows × 3 columns</p>\n",
       "</div>"
      ],
      "text/plain": [
       "      movieId                                      title  \\\n",
       "0           1                           Toy Story (1995)   \n",
       "1           2                             Jumanji (1995)   \n",
       "2           3                    Grumpier Old Men (1995)   \n",
       "3           4                   Waiting to Exhale (1995)   \n",
       "4           5         Father of the Bride Part II (1995)   \n",
       "...       ...                                        ...   \n",
       "9737   193581  Black Butler: Book of the Atlantic (2017)   \n",
       "9738   193583               No Game No Life: Zero (2017)   \n",
       "9739   193585                               Flint (2017)   \n",
       "9740   193587        Bungo Stray Dogs: Dead Apple (2018)   \n",
       "9741   193609        Andrew Dice Clay: Dice Rules (1991)   \n",
       "\n",
       "                                           genres  \n",
       "0     Adventure|Animation|Children|Comedy|Fantasy  \n",
       "1                      Adventure|Children|Fantasy  \n",
       "2                                  Comedy|Romance  \n",
       "3                            Comedy|Drama|Romance  \n",
       "4                                          Comedy  \n",
       "...                                           ...  \n",
       "9737              Action|Animation|Comedy|Fantasy  \n",
       "9738                     Animation|Comedy|Fantasy  \n",
       "9739                                        Drama  \n",
       "9740                             Action|Animation  \n",
       "9741                                       Comedy  \n",
       "\n",
       "[9742 rows x 3 columns]"
      ]
     },
     "execution_count": 7,
     "metadata": {},
     "output_type": "execute_result"
    }
   ],
   "source": [
    "movies"
   ]
  },
  {
   "cell_type": "code",
   "execution_count": 8,
   "id": "0a50072d",
   "metadata": {},
   "outputs": [
    {
     "data": {
      "text/html": [
       "<div>\n",
       "<style scoped>\n",
       "    .dataframe tbody tr th:only-of-type {\n",
       "        vertical-align: middle;\n",
       "    }\n",
       "\n",
       "    .dataframe tbody tr th {\n",
       "        vertical-align: top;\n",
       "    }\n",
       "\n",
       "    .dataframe thead th {\n",
       "        text-align: right;\n",
       "    }\n",
       "</style>\n",
       "<table border=\"1\" class=\"dataframe\">\n",
       "  <thead>\n",
       "    <tr style=\"text-align: right;\">\n",
       "      <th></th>\n",
       "      <th>userId</th>\n",
       "      <th>movieId</th>\n",
       "      <th>rating</th>\n",
       "      <th>timestamp</th>\n",
       "    </tr>\n",
       "  </thead>\n",
       "  <tbody>\n",
       "    <tr>\n",
       "      <th>0</th>\n",
       "      <td>1</td>\n",
       "      <td>1</td>\n",
       "      <td>4.0</td>\n",
       "      <td>964982703</td>\n",
       "    </tr>\n",
       "    <tr>\n",
       "      <th>1</th>\n",
       "      <td>1</td>\n",
       "      <td>3</td>\n",
       "      <td>4.0</td>\n",
       "      <td>964981247</td>\n",
       "    </tr>\n",
       "    <tr>\n",
       "      <th>2</th>\n",
       "      <td>1</td>\n",
       "      <td>6</td>\n",
       "      <td>4.0</td>\n",
       "      <td>964982224</td>\n",
       "    </tr>\n",
       "    <tr>\n",
       "      <th>3</th>\n",
       "      <td>1</td>\n",
       "      <td>47</td>\n",
       "      <td>5.0</td>\n",
       "      <td>964983815</td>\n",
       "    </tr>\n",
       "    <tr>\n",
       "      <th>4</th>\n",
       "      <td>1</td>\n",
       "      <td>50</td>\n",
       "      <td>5.0</td>\n",
       "      <td>964982931</td>\n",
       "    </tr>\n",
       "    <tr>\n",
       "      <th>...</th>\n",
       "      <td>...</td>\n",
       "      <td>...</td>\n",
       "      <td>...</td>\n",
       "      <td>...</td>\n",
       "    </tr>\n",
       "    <tr>\n",
       "      <th>100831</th>\n",
       "      <td>610</td>\n",
       "      <td>166534</td>\n",
       "      <td>4.0</td>\n",
       "      <td>1493848402</td>\n",
       "    </tr>\n",
       "    <tr>\n",
       "      <th>100832</th>\n",
       "      <td>610</td>\n",
       "      <td>168248</td>\n",
       "      <td>5.0</td>\n",
       "      <td>1493850091</td>\n",
       "    </tr>\n",
       "    <tr>\n",
       "      <th>100833</th>\n",
       "      <td>610</td>\n",
       "      <td>168250</td>\n",
       "      <td>5.0</td>\n",
       "      <td>1494273047</td>\n",
       "    </tr>\n",
       "    <tr>\n",
       "      <th>100834</th>\n",
       "      <td>610</td>\n",
       "      <td>168252</td>\n",
       "      <td>5.0</td>\n",
       "      <td>1493846352</td>\n",
       "    </tr>\n",
       "    <tr>\n",
       "      <th>100835</th>\n",
       "      <td>610</td>\n",
       "      <td>170875</td>\n",
       "      <td>3.0</td>\n",
       "      <td>1493846415</td>\n",
       "    </tr>\n",
       "  </tbody>\n",
       "</table>\n",
       "<p>100836 rows × 4 columns</p>\n",
       "</div>"
      ],
      "text/plain": [
       "        userId  movieId  rating   timestamp\n",
       "0            1        1     4.0   964982703\n",
       "1            1        3     4.0   964981247\n",
       "2            1        6     4.0   964982224\n",
       "3            1       47     5.0   964983815\n",
       "4            1       50     5.0   964982931\n",
       "...        ...      ...     ...         ...\n",
       "100831     610   166534     4.0  1493848402\n",
       "100832     610   168248     5.0  1493850091\n",
       "100833     610   168250     5.0  1494273047\n",
       "100834     610   168252     5.0  1493846352\n",
       "100835     610   170875     3.0  1493846415\n",
       "\n",
       "[100836 rows x 4 columns]"
      ]
     },
     "execution_count": 8,
     "metadata": {},
     "output_type": "execute_result"
    }
   ],
   "source": [
    "ratings"
   ]
  },
  {
   "cell_type": "code",
   "execution_count": 9,
   "id": "eb3ae8a3",
   "metadata": {},
   "outputs": [
    {
     "name": "stdout",
     "output_type": "stream",
     "text": [
      "Movie with the maximum number of user ratings: Forrest Gump (1994)\n"
     ]
    }
   ],
   "source": [
    "merged_data = pd.merge(ratings, movies, on='movieId')\n",
    "\n",
    "ratings_count = merged_data.groupby('title')['rating'].count()\n",
    "\n",
    "max_rated_movie = ratings_count.idxmax()\n",
    "\n",
    "print(\"Movie with the maximum number of user ratings:\", max_rated_movie)"
   ]
  },
  {
   "cell_type": "code",
   "execution_count": 10,
   "id": "044fd38d",
   "metadata": {},
   "outputs": [
    {
     "data": {
      "text/html": [
       "<div>\n",
       "<style scoped>\n",
       "    .dataframe tbody tr th:only-of-type {\n",
       "        vertical-align: middle;\n",
       "    }\n",
       "\n",
       "    .dataframe tbody tr th {\n",
       "        vertical-align: top;\n",
       "    }\n",
       "\n",
       "    .dataframe thead th {\n",
       "        text-align: right;\n",
       "    }\n",
       "</style>\n",
       "<table border=\"1\" class=\"dataframe\">\n",
       "  <thead>\n",
       "    <tr style=\"text-align: right;\">\n",
       "      <th></th>\n",
       "      <th>userId</th>\n",
       "      <th>movieId</th>\n",
       "      <th>tag</th>\n",
       "      <th>timestamp</th>\n",
       "    </tr>\n",
       "  </thead>\n",
       "  <tbody>\n",
       "    <tr>\n",
       "      <th>0</th>\n",
       "      <td>2</td>\n",
       "      <td>60756</td>\n",
       "      <td>funny</td>\n",
       "      <td>1445714994</td>\n",
       "    </tr>\n",
       "    <tr>\n",
       "      <th>1</th>\n",
       "      <td>2</td>\n",
       "      <td>60756</td>\n",
       "      <td>Highly quotable</td>\n",
       "      <td>1445714996</td>\n",
       "    </tr>\n",
       "    <tr>\n",
       "      <th>2</th>\n",
       "      <td>2</td>\n",
       "      <td>60756</td>\n",
       "      <td>will ferrell</td>\n",
       "      <td>1445714992</td>\n",
       "    </tr>\n",
       "    <tr>\n",
       "      <th>3</th>\n",
       "      <td>2</td>\n",
       "      <td>89774</td>\n",
       "      <td>Boxing story</td>\n",
       "      <td>1445715207</td>\n",
       "    </tr>\n",
       "    <tr>\n",
       "      <th>4</th>\n",
       "      <td>2</td>\n",
       "      <td>89774</td>\n",
       "      <td>MMA</td>\n",
       "      <td>1445715200</td>\n",
       "    </tr>\n",
       "  </tbody>\n",
       "</table>\n",
       "</div>"
      ],
      "text/plain": [
       "   userId  movieId              tag   timestamp\n",
       "0       2    60756            funny  1445714994\n",
       "1       2    60756  Highly quotable  1445714996\n",
       "2       2    60756     will ferrell  1445714992\n",
       "3       2    89774     Boxing story  1445715207\n",
       "4       2    89774              MMA  1445715200"
      ]
     },
     "execution_count": 10,
     "metadata": {},
     "output_type": "execute_result"
    }
   ],
   "source": [
    "tags.head()"
   ]
  },
  {
   "cell_type": "code",
   "execution_count": 11,
   "id": "40289bbc",
   "metadata": {},
   "outputs": [
    {
     "name": "stdout",
     "output_type": "stream",
     "text": [
      "      userId                 tag\n",
      "815      424        martial arts\n",
      "816      424              sci-fi\n",
      "1646     474  alternate universe\n",
      "2794     537          philosophy\n",
      "2795     537    post apocalyptic\n"
     ]
    }
   ],
   "source": [
    "\n",
    "matrix_tags = tags[tags['movieId'].isin(movies[movies['title'] == 'Matrix, The (1999)']['movieId'])]\n",
    "\n",
    "print(matrix_tags[['userId', 'tag']])\n"
   ]
  },
  {
   "cell_type": "code",
   "execution_count": 12,
   "id": "d88af105",
   "metadata": {},
   "outputs": [
    {
     "name": "stdout",
     "output_type": "stream",
     "text": [
      "Average user rating for 'Terminator 2: Judgment Day (1991)': 4\n"
     ]
    }
   ],
   "source": [
    "\n",
    "merged_data = pd.merge(ratings, movies, on='movieId')\n",
    "\n",
    "terminator_ratings = merged_data[merged_data['title'] == 'Terminator 2: Judgment Day (1991)']\n",
    "\n",
    "average_rating = terminator_ratings['rating'].mean()\n",
    "\n",
    "print(\"Average user rating for 'Terminator 2: Judgment Day (1991)':\", round(average_rating))\n"
   ]
  },
  {
   "cell_type": "code",
   "execution_count": 13,
   "id": "3b86890a",
   "metadata": {},
   "outputs": [
    {
     "data": {
      "image/png": "[encoded data removed]",
      "text/plain": [
       "<Figure size 640x480 with 1 Axes>"
      ]
     },
     "metadata": {},
     "output_type": "display_data"
    }
   ],
   "source": [
    "import matplotlib.pyplot as plt\n",
    "\n",
    "\n",
    "merged_data = pd.merge(ratings, movies, on='movieId')\n",
    "\n",
    "fight_club_ratings = merged_data[merged_data['title'] == 'Fight Club (1999)']\n",
    "\n",
    "plt.hist(fight_club_ratings['rating'], bins=[0.5, 1.5, 2.5, 3.5, 4.5, 5.5], edgecolor='black')\n",
    "plt.xlabel('User Ratings')\n",
    "plt.ylabel('Number of Ratings')\n",
    "plt.title('User Ratings Distribution for Fight Club (1999)')\n",
    "plt.show()\n"
   ]
  },
  {
   "cell_type": "code",
   "execution_count": 14,
   "id": "4bd46858",
   "metadata": {},
   "outputs": [
    {
     "name": "stdout",
     "output_type": "stream",
     "text": [
      "The most popular movie based on average user ratings (with more than 50 ratings) is: Shawshank Redemption, The (1994)\n"
     ]
    }
   ],
   "source": [
    "\n",
    "ratings_grouped = ratings.groupby('movieId')['rating'].agg(['count', 'mean'])\n",
    "\n",
    "merged_data = pd.merge(movies, ratings_grouped, left_on='movieId', right_index=True, how='inner')\n",
    "\n",
    "filtered_data = merged_data[merged_data['count'] > 50]\n",
    "\n",
    "most_popular_movie = filtered_data.loc[filtered_data['mean'].idxmax()]\n",
    "\n",
    "print(\"The most popular movie based on average user ratings (with more than 50 ratings) is:\", most_popular_movie['title'])\n"
   ]
  },
  {
   "cell_type": "code",
   "execution_count": 15,
   "id": "4bb5d66a",
   "metadata": {},
   "outputs": [
    {
     "name": "stdout",
     "output_type": "stream",
     "text": [
      "Top 5 popular movies based on number of user ratings:\n",
      "                                 title  count\n",
      "314                Forrest Gump (1994)    329\n",
      "277   Shawshank Redemption, The (1994)    317\n",
      "257                Pulp Fiction (1994)    307\n",
      "510   Silence of the Lambs, The (1991)    279\n",
      "1939                Matrix, The (1999)    278\n"
     ]
    }
   ],
   "source": [
    "\n",
    "ratings_grouped = ratings.groupby('movieId')['rating'].agg(['count', 'mean'])\n",
    "\n",
    "merged_data = pd.merge(movies, ratings_grouped, left_on='movieId', right_index=True, how='inner')\n",
    "\n",
    "filtered_data = merged_data[merged_data['count'] > 50]\n",
    "\n",
    "top5_movies = filtered_data.nlargest(5, 'count')\n",
    "\n",
    "print(\"Top 5 popular movies based on number of user ratings:\")\n",
    "print(top5_movies[['title', 'count']])\n"
   ]
  },
  {
   "cell_type": "code",
   "execution_count": 16,
   "id": "4d6b0043",
   "metadata": {},
   "outputs": [
    {
     "name": "stdout",
     "output_type": "stream",
     "text": [
      "The third most popular Sci-Fi movie based on the number of user ratings is: Jurassic Park (1993)\n"
     ]
    }
   ],
   "source": [
    "\n",
    "sci_fi_movies = movies[movies['genres'].str.contains('Sci-Fi')]\n",
    "\n",
    "ratings_grouped = ratings.groupby('movieId')['rating'].agg(['count', 'mean'])\n",
    "\n",
    "merged_data = pd.merge(sci_fi_movies, ratings_grouped, left_on='movieId', right_index=True, how='inner')\n",
    "\n",
    "filtered_sci_fi_data = merged_data[merged_data['count'] > 50]\n",
    "\n",
    "third_most_popular_sci_fi = filtered_sci_fi_data.nlargest(3, 'count').iloc[-1]\n",
    "\n",
    "print(\"The third most popular Sci-Fi movie based on the number of user ratings is:\", third_most_popular_sci_fi['title'])\n"
   ]
  },
  {
   "cell_type": "code",
   "execution_count": 17,
   "id": "64f61d2d",
   "metadata": {
    "scrolled": true
   },
   "outputs": [
    {
     "data": {
      "text/html": [
       "<div>\n",
       "<style scoped>\n",
       "    .dataframe tbody tr th:only-of-type {\n",
       "        vertical-align: middle;\n",
       "    }\n",
       "\n",
       "    .dataframe tbody tr th {\n",
       "        vertical-align: top;\n",
       "    }\n",
       "\n",
       "    .dataframe thead th {\n",
       "        text-align: right;\n",
       "    }\n",
       "</style>\n",
       "<table border=\"1\" class=\"dataframe\">\n",
       "  <thead>\n",
       "    <tr style=\"text-align: right;\">\n",
       "      <th></th>\n",
       "      <th>movieId</th>\n",
       "      <th>imdbId</th>\n",
       "      <th>tmdbId</th>\n",
       "    </tr>\n",
       "  </thead>\n",
       "  <tbody>\n",
       "    <tr>\n",
       "      <th>0</th>\n",
       "      <td>1</td>\n",
       "      <td>114709</td>\n",
       "      <td>862.0</td>\n",
       "    </tr>\n",
       "    <tr>\n",
       "      <th>1</th>\n",
       "      <td>2</td>\n",
       "      <td>113497</td>\n",
       "      <td>8844.0</td>\n",
       "    </tr>\n",
       "    <tr>\n",
       "      <th>2</th>\n",
       "      <td>3</td>\n",
       "      <td>113228</td>\n",
       "      <td>15602.0</td>\n",
       "    </tr>\n",
       "    <tr>\n",
       "      <th>3</th>\n",
       "      <td>4</td>\n",
       "      <td>114885</td>\n",
       "      <td>31357.0</td>\n",
       "    </tr>\n",
       "    <tr>\n",
       "      <th>4</th>\n",
       "      <td>5</td>\n",
       "      <td>113041</td>\n",
       "      <td>11862.0</td>\n",
       "    </tr>\n",
       "    <tr>\n",
       "      <th>...</th>\n",
       "      <td>...</td>\n",
       "      <td>...</td>\n",
       "      <td>...</td>\n",
       "    </tr>\n",
       "    <tr>\n",
       "      <th>9737</th>\n",
       "      <td>193581</td>\n",
       "      <td>5476944</td>\n",
       "      <td>432131.0</td>\n",
       "    </tr>\n",
       "    <tr>\n",
       "      <th>9738</th>\n",
       "      <td>193583</td>\n",
       "      <td>5914996</td>\n",
       "      <td>445030.0</td>\n",
       "    </tr>\n",
       "    <tr>\n",
       "      <th>9739</th>\n",
       "      <td>193585</td>\n",
       "      <td>6397426</td>\n",
       "      <td>479308.0</td>\n",
       "    </tr>\n",
       "    <tr>\n",
       "      <th>9740</th>\n",
       "      <td>193587</td>\n",
       "      <td>8391976</td>\n",
       "      <td>483455.0</td>\n",
       "    </tr>\n",
       "    <tr>\n",
       "      <th>9741</th>\n",
       "      <td>193609</td>\n",
       "      <td>101726</td>\n",
       "      <td>37891.0</td>\n",
       "    </tr>\n",
       "  </tbody>\n",
       "</table>\n",
       "<p>9742 rows × 3 columns</p>\n",
       "</div>"
      ],
      "text/plain": [
       "      movieId   imdbId    tmdbId\n",
       "0           1   114709     862.0\n",
       "1           2   113497    8844.0\n",
       "2           3   113228   15602.0\n",
       "3           4   114885   31357.0\n",
       "4           5   113041   11862.0\n",
       "...       ...      ...       ...\n",
       "9737   193581  5476944  432131.0\n",
       "9738   193583  5914996  445030.0\n",
       "9739   193585  6397426  479308.0\n",
       "9740   193587  8391976  483455.0\n",
       "9741   193609   101726   37891.0\n",
       "\n",
       "[9742 rows x 3 columns]"
      ]
     },
     "execution_count": 17,
     "metadata": {},
     "output_type": "execute_result"
    }
   ],
   "source": [
    "links"
   ]
  },
  {
   "cell_type": "code",
   "execution_count": 18,
   "id": "32c58769",
   "metadata": {},
   "outputs": [],
   "source": [
    "import pandas as pd\n",
    "import requests\n",
    "from bs4 import BeautifulSoup\n",
    "\n",
    "links_df = pd.read_csv(\"C:/Users/srmis/OneDrive/Desktop/movie_data/links.csv\")\n",
    "\n",
    "ratings_df = pd.read_csv(\"C:/Users/srmis/OneDrive/Desktop/movie_data/ratings.csv\")\n",
    "popular_movies = ratings_df['movieId'].value_counts() > 50\n",
    "popular_movie_ids = popular_movies[popular_movies].index\n",
    "\n",
    "popular_links = links_df[links_df['movieId'].isin(popular_movie_ids)]\n",
    "\n",
    "def scrape_imdb_reviews(imdb_id):\n",
    "    url = f'http://www.imdb.com/title/{imdb_id}/reviews'\n",
    "    response = requests.get(url)\n",
    "    soup = BeautifulSoup(response.text, 'html.parser')\n",
    "    \n",
    "    reviews_data = []\n",
    "    \n",
    "    review_elements = soup.select('.text.show-more__control')\n",
    "    for review_element in review_elements:\n",
    "        review_text = review_element.text.strip()\n",
    "        reviews_data.append({\n",
    "            'text': review_text,\n",
    "            'author': 'Anonymous'  \n",
    "        })\n",
    "    \n",
    "    return reviews_data\n",
    "\n",
    "for _, row in popular_links.iterrows():\n",
    "    imdb_id = row['imdbId']\n",
    "    reviews_data = scrape_imdb_reviews(imdb_id)\n",
    "    \n",
    "    if reviews_data:\n",
    "        df_reviews = pd.DataFrame(reviews_data)\n",
    "        df_reviews.to_csv(f'reviews_{imdb_id}.csv', index=False)\n",
    "\n"
   ]
  },
  {
   "cell_type": "code",
   "execution_count": 20,
   "id": "531775c8",
   "metadata": {},
   "outputs": [
    {
     "name": "stdout",
     "output_type": "stream",
     "text": [
      "Sci-Fi Movie with the highest IMDb rating:\n",
      "MovieId: None, IMDb Rating: 0.0\n"
     ]
    }
   ],
   "source": [
    "import pandas as pd\n",
    "import requests\n",
    "from bs4 import BeautifulSoup\n",
    "\n",
    "links_df = pd.read_csv(\"C:/Users/srmis/OneDrive/Desktop/movie_data/links.csv\")\n",
    "movies_df = pd.read_csv(\"C:/Users/srmis/OneDrive/Desktop/movie_data/movies.csv\")\n",
    "\n",
    "scifi_movie_ids = movies_df[movies_df['genres'].str.contains('Sci-Fi')]['movieId']\n",
    "\n",
    "scifi_links = links_df[links_df['movieId'].isin(scifi_movie_ids)]\n",
    "\n",
    "def scrape_imdb_data(imdb_id):\n",
    "    url = f'http://www.imdb.com/title/{imdb_id}/'\n",
    "    response = requests.get(url)\n",
    "    soup = BeautifulSoup(response.text, 'html.parser')\n",
    "    \n",
    "    rating_element = soup.find('span', itemprop='ratingValue')\n",
    "    imdb_rating = str(rating_element.text) if rating_element else None\n",
    "    \n",
    "    \n",
    "    return {'imdb_rating': imdb_rating}\n",
    "\n",
    "highest_rating = 0.0\n",
    "highest_rated_scifi_movie_id = None\n",
    "\n",
    "for _, row in scifi_links.iterrows():\n",
    "    imdb_id = row['imdbId']\n",
    "    imdb_data = scrape_imdb_data(imdb_id)\n",
    "    \n",
    "    if imdb_data['imdb_rating'] is not None and imdb_data['imdb_rating'] > highest_rating:\n",
    "        highest_rating = imdb_data['imdb_rating']\n",
    "        highest_rated_scifi_movie_id = row['movieId']\n",
    "\n",
    "print(\"Sci-Fi Movie with the highest IMDb rating:\")\n",
    "print(f\"MovieId: {highest_rated_scifi_movie_id}, IMDb Rating: {highest_rating}\")\n"
   ]
  },
  {
   "cell_type": "code",
   "execution_count": 21,
   "id": "4759684f",
   "metadata": {},
   "outputs": [
    {
     "name": "stdout",
     "output_type": "stream",
     "text": [
      "MovieId of the movie with the highest IMDb rating: 53.0\n"
     ]
    }
   ],
   "source": [
    "\n",
    "merged_data = pd.merge(ratings, movies, on='movieId')\n",
    "\n",
    "average_ratings = merged_data.groupby('movieId')['rating'].mean().reset_index()\n",
    "\n",
    "highest_rated_movieId = average_ratings.loc[average_ratings['rating'].idxmax()]['movieId']\n",
    "\n",
    "print(\"MovieId of the movie with the highest IMDb rating:\", highest_rated_movieId)\n"
   ]
  },
  {
   "cell_type": "code",
   "execution_count": 22,
   "id": "8ae7cba7",
   "metadata": {},
   "outputs": [
    {
     "name": "stdout",
     "output_type": "stream",
     "text": [
      "MovieId of the highest rated Sci-Fi movie: 3687.0\n"
     ]
    }
   ],
   "source": [
    "\n",
    "scifi_movies = movies[movies['genres'].str.contains('Sci-Fi')]\n",
    "\n",
    "merged_data_scifi = pd.merge(ratings, scifi_movies, on='movieId')\n",
    "\n",
    "average_ratings_scifi = merged_data_scifi.groupby('movieId')['rating'].mean().reset_index()\n",
    "\n",
    "highest_rated_scifi_movieId = average_ratings_scifi.loc[average_ratings_scifi['rating'].idxmax()]['movieId']\n",
    "\n",
    "print(\"MovieId of the highest rated Sci-Fi movie:\", highest_rated_scifi_movieId)\n"
   ]
  },
  {
   "cell_type": "code",
   "execution_count": null,
   "id": "16378fb2",
   "metadata": {},
   "outputs": [],
   "source": []
  }
 ],
 "metadata": {
  "kernelspec": {
   "display_name": "Python 3 (ipykernel)",
   "language": "python",
   "name": "python3"
  },
  "language_info": {
   "codemirror_mode": {
    "name": "ipython",
    "version": 3
   },
   "file_extension": ".py",
   "mimetype": "text/x-python",
   "name": "python",
   "nbconvert_exporter": "python",
   "pygments_lexer": "ipython3",
   "version": "3.7.13"
  }
 },
 "nbformat": 4,
 "nbformat_minor": 5
}
